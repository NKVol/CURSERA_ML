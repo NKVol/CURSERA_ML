{
 "cells": [
  {
   "cell_type": "raw",
   "id": "2e888020",
   "metadata": {},
   "source": [
    "О задании\n",
    "● У задания нет единого правильного решения - делайте что угодно, что по\n",
    "вашему мнению может привести к решению\n",
    "● Для решения задачи вы можете использовать любое подмножество\n",
    "предоставленных данных\n",
    "● Предпочтительный вариант оформления - jupyter notebook (или любые другие\n",
    "решения-ноутбуки), но можно сделать и в любом другом редакторе/IDE,\n",
    "который вам удобен\n",
    "● Python/R также по желанию\n",
    "● Просьба максимально подробно комментировать свой код, чтобы можно было\n",
    "проследить за вашей мыслью, почему вы решили делать те или иные действия\n",
    "● Данные для выполнения задания лежат здесь\n",
    "Задача\n",
    "Во время совершения поездок навигатор отправляет события с различной\n",
    "информацией - в какой точке построенного маршрута находится сейчас водитель, с\n",
    "какой скоростью он едет и т.д.\n",
    "Необходимо проверить, отличается ли в среднем скорость движения водителей в\n",
    "Москве и Санкт-Петербурге (и если отличается, то каким образом).\n",
    "Данные\n",
    "В файле speeds_msk_spb.csv лежат скорости автомобилистов из Москвы и\n",
    "Санкт-Петербурга, совершавших поездки по навигатору 2ГИС в апреле 2021г.\n",
    "Также в файле graph_msk_spb.csv содержится дополнительная информация - часть\n",
    "информации о дорожных графах Москвы и Санкт-Петербурга."
   ]
  },
  {
   "cell_type": "markdown",
   "id": "da69e347",
   "metadata": {},
   "source": [
    "1. Сформулируем вопрос: \"Cкорость движения водителей в Москве и Санкт-Петербурге не отличается\""
   ]
  },
  {
   "cell_type": "markdown",
   "id": "163b4823",
   "metadata": {},
   "source": [
    "2. Проведем исследование данных "
   ]
  },
  {
   "cell_type": "code",
   "execution_count": 79,
   "id": "ba9ef4b5",
   "metadata": {},
   "outputs": [],
   "source": [
    "import numpy as np\n",
    "import pandas as pd\n",
    "import matplotlib.pyplot as plt\n",
    "import seaborn as sns\n",
    "import scipy"
   ]
  },
  {
   "cell_type": "markdown",
   "id": "f43642e1",
   "metadata": {},
   "source": [
    "2.1 Загрузка и первый взгляд на данные"
   ]
  },
  {
   "cell_type": "code",
   "execution_count": 2,
   "id": "7784ff0e",
   "metadata": {},
   "outputs": [],
   "source": [
    "df_speeds_msk_spb = pd.read_csv('speeds_msk_spb.csv')\n",
    "df_graph_msk_spb = pd.read_csv('graph_msk_spb.csv')"
   ]
  },
  {
   "cell_type": "code",
   "execution_count": 3,
   "id": "d883e93b",
   "metadata": {},
   "outputs": [
    {
     "data": {
      "text/plain": [
       "(100000, 4)"
      ]
     },
     "execution_count": 3,
     "metadata": {},
     "output_type": "execute_result"
    }
   ],
   "source": [
    "df_speeds_msk_spb.shape"
   ]
  },
  {
   "cell_type": "code",
   "execution_count": 4,
   "id": "23afc31b",
   "metadata": {},
   "outputs": [
    {
     "data": {
      "text/plain": [
       "(3642676, 6)"
      ]
     },
     "execution_count": 4,
     "metadata": {},
     "output_type": "execute_result"
    }
   ],
   "source": [
    "df_graph_msk_spb.shape"
   ]
  },
  {
   "cell_type": "raw",
   "id": "baefe8b2",
   "metadata": {},
   "source": [
    "Описание полей:\n",
    "● city - город (moscow, spb)\n",
    "● d - дата-время, когда было зарегистрировано событие (в часовой зоне МСК)\n",
    "● speed - текущая скорость км/ч\n",
    "● edge_id - идентификатор ребра, по которому в настоящий момент движется\n",
    "водитель"
   ]
  },
  {
   "cell_type": "code",
   "execution_count": 5,
   "id": "6f508e84",
   "metadata": {},
   "outputs": [
    {
     "data": {
      "text/html": [
       "<div>\n",
       "<style scoped>\n",
       "    .dataframe tbody tr th:only-of-type {\n",
       "        vertical-align: middle;\n",
       "    }\n",
       "\n",
       "    .dataframe tbody tr th {\n",
       "        vertical-align: top;\n",
       "    }\n",
       "\n",
       "    .dataframe thead th {\n",
       "        text-align: right;\n",
       "    }\n",
       "</style>\n",
       "<table border=\"1\" class=\"dataframe\">\n",
       "  <thead>\n",
       "    <tr style=\"text-align: right;\">\n",
       "      <th></th>\n",
       "      <th>city</th>\n",
       "      <th>d</th>\n",
       "      <th>speed</th>\n",
       "      <th>edge_id</th>\n",
       "    </tr>\n",
       "  </thead>\n",
       "  <tbody>\n",
       "    <tr>\n",
       "      <th>0</th>\n",
       "      <td>moscow</td>\n",
       "      <td>2021-04-18 15:12:38.0</td>\n",
       "      <td>11.0</td>\n",
       "      <td>9008633773888464</td>\n",
       "    </tr>\n",
       "    <tr>\n",
       "      <th>1</th>\n",
       "      <td>spb</td>\n",
       "      <td>2021-04-20 18:33:20.0</td>\n",
       "      <td>14.0</td>\n",
       "      <td>10697483669328064</td>\n",
       "    </tr>\n",
       "    <tr>\n",
       "      <th>2</th>\n",
       "      <td>spb</td>\n",
       "      <td>2021-04-25 09:16:15.0</td>\n",
       "      <td>32.0</td>\n",
       "      <td>140060152287166551</td>\n",
       "    </tr>\n",
       "    <tr>\n",
       "      <th>3</th>\n",
       "      <td>moscow</td>\n",
       "      <td>2021-04-01 05:50:42.0</td>\n",
       "      <td>49.0</td>\n",
       "      <td>9008633774122639</td>\n",
       "    </tr>\n",
       "    <tr>\n",
       "      <th>4</th>\n",
       "      <td>moscow</td>\n",
       "      <td>2021-04-12 07:56:15.0</td>\n",
       "      <td>17.0</td>\n",
       "      <td>9008633773945601</td>\n",
       "    </tr>\n",
       "    <tr>\n",
       "      <th>5</th>\n",
       "      <td>moscow</td>\n",
       "      <td>2021-04-23 21:10:55.0</td>\n",
       "      <td>24.0</td>\n",
       "      <td>9008633870552733</td>\n",
       "    </tr>\n",
       "    <tr>\n",
       "      <th>6</th>\n",
       "      <td>moscow</td>\n",
       "      <td>2021-04-01 17:27:32.0</td>\n",
       "      <td>18.0</td>\n",
       "      <td>140060152286422790</td>\n",
       "    </tr>\n",
       "    <tr>\n",
       "      <th>7</th>\n",
       "      <td>spb</td>\n",
       "      <td>2021-04-01 00:01:34.0</td>\n",
       "      <td>11.0</td>\n",
       "      <td>140060152298700950</td>\n",
       "    </tr>\n",
       "    <tr>\n",
       "      <th>8</th>\n",
       "      <td>moscow</td>\n",
       "      <td>2021-04-09 13:40:33.0</td>\n",
       "      <td>19.0</td>\n",
       "      <td>9008633773970961</td>\n",
       "    </tr>\n",
       "    <tr>\n",
       "      <th>9</th>\n",
       "      <td>moscow</td>\n",
       "      <td>2021-04-05 19:20:48.0</td>\n",
       "      <td>40.0</td>\n",
       "      <td>9008633773871087</td>\n",
       "    </tr>\n",
       "  </tbody>\n",
       "</table>\n",
       "</div>"
      ],
      "text/plain": [
       "     city                      d  speed             edge_id\n",
       "0  moscow  2021-04-18 15:12:38.0   11.0    9008633773888464\n",
       "1     spb  2021-04-20 18:33:20.0   14.0   10697483669328064\n",
       "2     spb  2021-04-25 09:16:15.0   32.0  140060152287166551\n",
       "3  moscow  2021-04-01 05:50:42.0   49.0    9008633774122639\n",
       "4  moscow  2021-04-12 07:56:15.0   17.0    9008633773945601\n",
       "5  moscow  2021-04-23 21:10:55.0   24.0    9008633870552733\n",
       "6  moscow  2021-04-01 17:27:32.0   18.0  140060152286422790\n",
       "7     spb  2021-04-01 00:01:34.0   11.0  140060152298700950\n",
       "8  moscow  2021-04-09 13:40:33.0   19.0    9008633773970961\n",
       "9  moscow  2021-04-05 19:20:48.0   40.0    9008633773871087"
      ]
     },
     "execution_count": 5,
     "metadata": {},
     "output_type": "execute_result"
    }
   ],
   "source": [
    "df_speeds_msk_spb.head(10)"
   ]
  },
  {
   "cell_type": "raw",
   "id": "54729f3d",
   "metadata": {},
   "source": [
    "Описание полей:\n",
    "● city - город (moscow, spb)\n",
    "● edge_id - идентификатор ребра\n",
    "● length - длина ребра в метрах\n",
    "● width - ширина ребра в метрах\n",
    "● lanes - количество автомобильных полос на ребре\n",
    "● def_speed - максимально допустимая скорость на ребре в км/ч"
   ]
  },
  {
   "cell_type": "code",
   "execution_count": 6,
   "id": "6b073e00",
   "metadata": {},
   "outputs": [
    {
     "data": {
      "text/html": [
       "<div>\n",
       "<style scoped>\n",
       "    .dataframe tbody tr th:only-of-type {\n",
       "        vertical-align: middle;\n",
       "    }\n",
       "\n",
       "    .dataframe tbody tr th {\n",
       "        vertical-align: top;\n",
       "    }\n",
       "\n",
       "    .dataframe thead th {\n",
       "        text-align: right;\n",
       "    }\n",
       "</style>\n",
       "<table border=\"1\" class=\"dataframe\">\n",
       "  <thead>\n",
       "    <tr style=\"text-align: right;\">\n",
       "      <th></th>\n",
       "      <th>city</th>\n",
       "      <th>edge_id</th>\n",
       "      <th>length</th>\n",
       "      <th>width</th>\n",
       "      <th>lanes</th>\n",
       "      <th>def_speed</th>\n",
       "    </tr>\n",
       "  </thead>\n",
       "  <tbody>\n",
       "    <tr>\n",
       "      <th>0</th>\n",
       "      <td>moscow</td>\n",
       "      <td>9008633774264073</td>\n",
       "      <td>34</td>\n",
       "      <td>3</td>\n",
       "      <td>1</td>\n",
       "      <td>20</td>\n",
       "    </tr>\n",
       "    <tr>\n",
       "      <th>1</th>\n",
       "      <td>moscow</td>\n",
       "      <td>140060152382786279</td>\n",
       "      <td>2063</td>\n",
       "      <td>3</td>\n",
       "      <td>0</td>\n",
       "      <td>3</td>\n",
       "    </tr>\n",
       "    <tr>\n",
       "      <th>2</th>\n",
       "      <td>moscow</td>\n",
       "      <td>9008633773969938</td>\n",
       "      <td>56</td>\n",
       "      <td>3</td>\n",
       "      <td>1</td>\n",
       "      <td>20</td>\n",
       "    </tr>\n",
       "    <tr>\n",
       "      <th>3</th>\n",
       "      <td>moscow</td>\n",
       "      <td>140060152340174253</td>\n",
       "      <td>62</td>\n",
       "      <td>3</td>\n",
       "      <td>1</td>\n",
       "      <td>20</td>\n",
       "    </tr>\n",
       "    <tr>\n",
       "      <th>4</th>\n",
       "      <td>moscow</td>\n",
       "      <td>140060152287285068</td>\n",
       "      <td>14</td>\n",
       "      <td>4</td>\n",
       "      <td>1</td>\n",
       "      <td>60</td>\n",
       "    </tr>\n",
       "    <tr>\n",
       "      <th>5</th>\n",
       "      <td>moscow</td>\n",
       "      <td>140060152269158061</td>\n",
       "      <td>297</td>\n",
       "      <td>3</td>\n",
       "      <td>1</td>\n",
       "      <td>20</td>\n",
       "    </tr>\n",
       "    <tr>\n",
       "      <th>6</th>\n",
       "      <td>moscow</td>\n",
       "      <td>140060152350398856</td>\n",
       "      <td>16</td>\n",
       "      <td>3</td>\n",
       "      <td>1</td>\n",
       "      <td>20</td>\n",
       "    </tr>\n",
       "    <tr>\n",
       "      <th>7</th>\n",
       "      <td>moscow</td>\n",
       "      <td>140060152392182196</td>\n",
       "      <td>69</td>\n",
       "      <td>3</td>\n",
       "      <td>1</td>\n",
       "      <td>20</td>\n",
       "    </tr>\n",
       "    <tr>\n",
       "      <th>8</th>\n",
       "      <td>moscow</td>\n",
       "      <td>9008633774315912</td>\n",
       "      <td>126</td>\n",
       "      <td>7</td>\n",
       "      <td>2</td>\n",
       "      <td>90</td>\n",
       "    </tr>\n",
       "    <tr>\n",
       "      <th>9</th>\n",
       "      <td>moscow</td>\n",
       "      <td>9008633800077359</td>\n",
       "      <td>103</td>\n",
       "      <td>3</td>\n",
       "      <td>0</td>\n",
       "      <td>3</td>\n",
       "    </tr>\n",
       "  </tbody>\n",
       "</table>\n",
       "</div>"
      ],
      "text/plain": [
       "     city             edge_id  length  width  lanes  def_speed\n",
       "0  moscow    9008633774264073      34      3      1         20\n",
       "1  moscow  140060152382786279    2063      3      0          3\n",
       "2  moscow    9008633773969938      56      3      1         20\n",
       "3  moscow  140060152340174253      62      3      1         20\n",
       "4  moscow  140060152287285068      14      4      1         60\n",
       "5  moscow  140060152269158061     297      3      1         20\n",
       "6  moscow  140060152350398856      16      3      1         20\n",
       "7  moscow  140060152392182196      69      3      1         20\n",
       "8  moscow    9008633774315912     126      7      2         90\n",
       "9  moscow    9008633800077359     103      3      0          3"
      ]
     },
     "execution_count": 6,
     "metadata": {},
     "output_type": "execute_result"
    }
   ],
   "source": [
    "df_graph_msk_spb.head(10)"
   ]
  },
  {
   "cell_type": "code",
   "execution_count": 7,
   "id": "6003f6ae",
   "metadata": {},
   "outputs": [
    {
     "name": "stdout",
     "output_type": "stream",
     "text": [
      "<class 'pandas.core.frame.DataFrame'>\n",
      "RangeIndex: 100000 entries, 0 to 99999\n",
      "Data columns (total 4 columns):\n",
      " #   Column   Non-Null Count   Dtype  \n",
      "---  ------   --------------   -----  \n",
      " 0   city     100000 non-null  object \n",
      " 1   d        100000 non-null  object \n",
      " 2   speed    100000 non-null  float64\n",
      " 3   edge_id  100000 non-null  int64  \n",
      "dtypes: float64(1), int64(1), object(2)\n",
      "memory usage: 3.1+ MB\n"
     ]
    }
   ],
   "source": [
    "df_speeds_msk_spb.info()"
   ]
  },
  {
   "cell_type": "code",
   "execution_count": 8,
   "id": "1f490070",
   "metadata": {},
   "outputs": [
    {
     "name": "stdout",
     "output_type": "stream",
     "text": [
      "<class 'pandas.core.frame.DataFrame'>\n",
      "RangeIndex: 3642676 entries, 0 to 3642675\n",
      "Data columns (total 6 columns):\n",
      " #   Column     Dtype \n",
      "---  ------     ----- \n",
      " 0   city       object\n",
      " 1   edge_id    int64 \n",
      " 2   length     int64 \n",
      " 3   width      int64 \n",
      " 4   lanes      int64 \n",
      " 5   def_speed  int64 \n",
      "dtypes: int64(5), object(1)\n",
      "memory usage: 166.7+ MB\n"
     ]
    }
   ],
   "source": [
    "df_graph_msk_spb.info()"
   ]
  },
  {
   "cell_type": "code",
   "execution_count": 9,
   "id": "1c88592a",
   "metadata": {},
   "outputs": [
    {
     "data": {
      "text/html": [
       "<div>\n",
       "<style scoped>\n",
       "    .dataframe tbody tr th:only-of-type {\n",
       "        vertical-align: middle;\n",
       "    }\n",
       "\n",
       "    .dataframe tbody tr th {\n",
       "        vertical-align: top;\n",
       "    }\n",
       "\n",
       "    .dataframe thead th {\n",
       "        text-align: right;\n",
       "    }\n",
       "</style>\n",
       "<table border=\"1\" class=\"dataframe\">\n",
       "  <thead>\n",
       "    <tr style=\"text-align: right;\">\n",
       "      <th></th>\n",
       "      <th>city</th>\n",
       "    </tr>\n",
       "  </thead>\n",
       "  <tbody>\n",
       "    <tr>\n",
       "      <th>count</th>\n",
       "      <td>3642676</td>\n",
       "    </tr>\n",
       "    <tr>\n",
       "      <th>unique</th>\n",
       "      <td>2</td>\n",
       "    </tr>\n",
       "    <tr>\n",
       "      <th>top</th>\n",
       "      <td>moscow</td>\n",
       "    </tr>\n",
       "    <tr>\n",
       "      <th>freq</th>\n",
       "      <td>2527238</td>\n",
       "    </tr>\n",
       "  </tbody>\n",
       "</table>\n",
       "</div>"
      ],
      "text/plain": [
       "           city\n",
       "count   3642676\n",
       "unique        2\n",
       "top      moscow\n",
       "freq    2527238"
      ]
     },
     "execution_count": 9,
     "metadata": {},
     "output_type": "execute_result"
    }
   ],
   "source": [
    "df_graph_msk_spb.describe(include=['object'])"
   ]
  },
  {
   "cell_type": "code",
   "execution_count": 10,
   "id": "7abff4a6",
   "metadata": {},
   "outputs": [
    {
     "data": {
      "text/html": [
       "<div>\n",
       "<style scoped>\n",
       "    .dataframe tbody tr th:only-of-type {\n",
       "        vertical-align: middle;\n",
       "    }\n",
       "\n",
       "    .dataframe tbody tr th {\n",
       "        vertical-align: top;\n",
       "    }\n",
       "\n",
       "    .dataframe thead th {\n",
       "        text-align: right;\n",
       "    }\n",
       "</style>\n",
       "<table border=\"1\" class=\"dataframe\">\n",
       "  <thead>\n",
       "    <tr style=\"text-align: right;\">\n",
       "      <th></th>\n",
       "      <th>city</th>\n",
       "      <th>d</th>\n",
       "    </tr>\n",
       "  </thead>\n",
       "  <tbody>\n",
       "    <tr>\n",
       "      <th>count</th>\n",
       "      <td>100000</td>\n",
       "      <td>100000</td>\n",
       "    </tr>\n",
       "    <tr>\n",
       "      <th>unique</th>\n",
       "      <td>2</td>\n",
       "      <td>96949</td>\n",
       "    </tr>\n",
       "    <tr>\n",
       "      <th>top</th>\n",
       "      <td>moscow</td>\n",
       "      <td>2021-04-23 12:12:54.0</td>\n",
       "    </tr>\n",
       "    <tr>\n",
       "      <th>freq</th>\n",
       "      <td>62359</td>\n",
       "      <td>4</td>\n",
       "    </tr>\n",
       "  </tbody>\n",
       "</table>\n",
       "</div>"
      ],
      "text/plain": [
       "          city                      d\n",
       "count   100000                 100000\n",
       "unique       2                  96949\n",
       "top     moscow  2021-04-23 12:12:54.0\n",
       "freq     62359                      4"
      ]
     },
     "execution_count": 10,
     "metadata": {},
     "output_type": "execute_result"
    }
   ],
   "source": [
    "df_speeds_msk_spb.describe(include=['object'])"
   ]
  },
  {
   "cell_type": "markdown",
   "id": "f8e91749",
   "metadata": {},
   "source": [
    "Посмотрим наличие пустых значений"
   ]
  },
  {
   "cell_type": "code",
   "execution_count": 11,
   "id": "40faec34",
   "metadata": {},
   "outputs": [
    {
     "data": {
      "text/plain": [
       "city       0\n",
       "d          0\n",
       "speed      0\n",
       "edge_id    0\n",
       "dtype: int64"
      ]
     },
     "execution_count": 11,
     "metadata": {},
     "output_type": "execute_result"
    }
   ],
   "source": [
    "df_speeds_msk_spb.isnull().sum()"
   ]
  },
  {
   "cell_type": "code",
   "execution_count": 12,
   "id": "f6d0da73",
   "metadata": {},
   "outputs": [
    {
     "data": {
      "text/plain": [
       "city         0\n",
       "edge_id      0\n",
       "length       0\n",
       "width        0\n",
       "lanes        0\n",
       "def_speed    0\n",
       "dtype: int64"
      ]
     },
     "execution_count": 12,
     "metadata": {},
     "output_type": "execute_result"
    }
   ],
   "source": [
    "df_graph_msk_spb.isnull().sum()"
   ]
  },
  {
   "cell_type": "code",
   "execution_count": 13,
   "id": "aeadfbfc",
   "metadata": {},
   "outputs": [
    {
     "data": {
      "text/plain": [
       "city         3642676\n",
       "edge_id      3642676\n",
       "length       3642676\n",
       "width        3642676\n",
       "lanes        3642676\n",
       "def_speed    3642676\n",
       "dtype: int64"
      ]
     },
     "execution_count": 13,
     "metadata": {},
     "output_type": "execute_result"
    }
   ],
   "source": [
    "df_graph_msk_spb.count()"
   ]
  },
  {
   "cell_type": "markdown",
   "id": "049cc8a9",
   "metadata": {},
   "source": [
    "Посмотрим наличие дублей в записях"
   ]
  },
  {
   "cell_type": "code",
   "execution_count": 14,
   "id": "d3aa3abb",
   "metadata": {},
   "outputs": [
    {
     "data": {
      "text/html": [
       "<div>\n",
       "<style scoped>\n",
       "    .dataframe tbody tr th:only-of-type {\n",
       "        vertical-align: middle;\n",
       "    }\n",
       "\n",
       "    .dataframe tbody tr th {\n",
       "        vertical-align: top;\n",
       "    }\n",
       "\n",
       "    .dataframe thead th {\n",
       "        text-align: right;\n",
       "    }\n",
       "</style>\n",
       "<table border=\"1\" class=\"dataframe\">\n",
       "  <thead>\n",
       "    <tr style=\"text-align: right;\">\n",
       "      <th></th>\n",
       "      <th>city</th>\n",
       "      <th>edge_id</th>\n",
       "      <th>length</th>\n",
       "      <th>width</th>\n",
       "      <th>lanes</th>\n",
       "      <th>def_speed</th>\n",
       "    </tr>\n",
       "  </thead>\n",
       "  <tbody>\n",
       "  </tbody>\n",
       "</table>\n",
       "</div>"
      ],
      "text/plain": [
       "Empty DataFrame\n",
       "Columns: [city, edge_id, length, width, lanes, def_speed]\n",
       "Index: []"
      ]
     },
     "execution_count": 14,
     "metadata": {},
     "output_type": "execute_result"
    }
   ],
   "source": [
    "df_graph_msk_spb.loc[df_graph_msk_spb.duplicated()]"
   ]
  },
  {
   "cell_type": "code",
   "execution_count": 15,
   "id": "ad537020",
   "metadata": {},
   "outputs": [
    {
     "data": {
      "text/html": [
       "<div>\n",
       "<style scoped>\n",
       "    .dataframe tbody tr th:only-of-type {\n",
       "        vertical-align: middle;\n",
       "    }\n",
       "\n",
       "    .dataframe tbody tr th {\n",
       "        vertical-align: top;\n",
       "    }\n",
       "\n",
       "    .dataframe thead th {\n",
       "        text-align: right;\n",
       "    }\n",
       "</style>\n",
       "<table border=\"1\" class=\"dataframe\">\n",
       "  <thead>\n",
       "    <tr style=\"text-align: right;\">\n",
       "      <th></th>\n",
       "      <th>city</th>\n",
       "      <th>d</th>\n",
       "      <th>speed</th>\n",
       "      <th>edge_id</th>\n",
       "    </tr>\n",
       "  </thead>\n",
       "  <tbody>\n",
       "  </tbody>\n",
       "</table>\n",
       "</div>"
      ],
      "text/plain": [
       "Empty DataFrame\n",
       "Columns: [city, d, speed, edge_id]\n",
       "Index: []"
      ]
     },
     "execution_count": 15,
     "metadata": {},
     "output_type": "execute_result"
    }
   ],
   "source": [
    "df_speeds_msk_spb.loc[df_speeds_msk_spb.duplicated()]"
   ]
  },
  {
   "cell_type": "markdown",
   "id": "5bca0f39",
   "metadata": {},
   "source": [
    "2.2 Посмотрите на базовые статистики датасета: средние, медианы, и т.д. скорости для каждого города"
   ]
  },
  {
   "cell_type": "code",
   "execution_count": 16,
   "id": "73cbde43",
   "metadata": {},
   "outputs": [
    {
     "data": {
      "text/html": [
       "<div>\n",
       "<style scoped>\n",
       "    .dataframe tbody tr th:only-of-type {\n",
       "        vertical-align: middle;\n",
       "    }\n",
       "\n",
       "    .dataframe tbody tr th {\n",
       "        vertical-align: top;\n",
       "    }\n",
       "\n",
       "    .dataframe thead th {\n",
       "        text-align: right;\n",
       "    }\n",
       "</style>\n",
       "<table border=\"1\" class=\"dataframe\">\n",
       "  <thead>\n",
       "    <tr style=\"text-align: right;\">\n",
       "      <th></th>\n",
       "      <th>speed</th>\n",
       "      <th>edge_id</th>\n",
       "    </tr>\n",
       "  </thead>\n",
       "  <tbody>\n",
       "    <tr>\n",
       "      <th>count</th>\n",
       "      <td>62359.000000</td>\n",
       "      <td>6.235900e+04</td>\n",
       "    </tr>\n",
       "    <tr>\n",
       "      <th>mean</th>\n",
       "      <td>38.283087</td>\n",
       "      <td>5.223573e+16</td>\n",
       "    </tr>\n",
       "    <tr>\n",
       "      <th>std</th>\n",
       "      <td>25.119591</td>\n",
       "      <td>6.161539e+16</td>\n",
       "    </tr>\n",
       "    <tr>\n",
       "      <th>min</th>\n",
       "      <td>1.000000</td>\n",
       "      <td>9.008634e+15</td>\n",
       "    </tr>\n",
       "    <tr>\n",
       "      <th>25%</th>\n",
       "      <td>17.000000</td>\n",
       "      <td>9.008634e+15</td>\n",
       "    </tr>\n",
       "    <tr>\n",
       "      <th>50%</th>\n",
       "      <td>36.000000</td>\n",
       "      <td>9.008634e+15</td>\n",
       "    </tr>\n",
       "    <tr>\n",
       "      <th>75%</th>\n",
       "      <td>56.000000</td>\n",
       "      <td>1.400602e+17</td>\n",
       "    </tr>\n",
       "    <tr>\n",
       "      <th>max</th>\n",
       "      <td>172.000000</td>\n",
       "      <td>1.400602e+17</td>\n",
       "    </tr>\n",
       "  </tbody>\n",
       "</table>\n",
       "</div>"
      ],
      "text/plain": [
       "              speed       edge_id\n",
       "count  62359.000000  6.235900e+04\n",
       "mean      38.283087  5.223573e+16\n",
       "std       25.119591  6.161539e+16\n",
       "min        1.000000  9.008634e+15\n",
       "25%       17.000000  9.008634e+15\n",
       "50%       36.000000  9.008634e+15\n",
       "75%       56.000000  1.400602e+17\n",
       "max      172.000000  1.400602e+17"
      ]
     },
     "execution_count": 16,
     "metadata": {},
     "output_type": "execute_result"
    }
   ],
   "source": [
    "df_speeds_msk_spb.loc[df_speeds_msk_spb['city'] == 'moscow'].describe()"
   ]
  },
  {
   "cell_type": "code",
   "execution_count": 17,
   "id": "9f974477",
   "metadata": {},
   "outputs": [
    {
     "data": {
      "text/html": [
       "<div>\n",
       "<style scoped>\n",
       "    .dataframe tbody tr th:only-of-type {\n",
       "        vertical-align: middle;\n",
       "    }\n",
       "\n",
       "    .dataframe tbody tr th {\n",
       "        vertical-align: top;\n",
       "    }\n",
       "\n",
       "    .dataframe thead th {\n",
       "        text-align: right;\n",
       "    }\n",
       "</style>\n",
       "<table border=\"1\" class=\"dataframe\">\n",
       "  <thead>\n",
       "    <tr style=\"text-align: right;\">\n",
       "      <th></th>\n",
       "      <th>speed</th>\n",
       "      <th>edge_id</th>\n",
       "    </tr>\n",
       "  </thead>\n",
       "  <tbody>\n",
       "    <tr>\n",
       "      <th>count</th>\n",
       "      <td>37641.000000</td>\n",
       "      <td>3.764100e+04</td>\n",
       "    </tr>\n",
       "    <tr>\n",
       "      <th>mean</th>\n",
       "      <td>38.839537</td>\n",
       "      <td>5.754037e+16</td>\n",
       "    </tr>\n",
       "    <tr>\n",
       "      <th>std</th>\n",
       "      <td>26.136696</td>\n",
       "      <td>6.217369e+16</td>\n",
       "    </tr>\n",
       "    <tr>\n",
       "      <th>min</th>\n",
       "      <td>1.000000</td>\n",
       "      <td>1.069748e+16</td>\n",
       "    </tr>\n",
       "    <tr>\n",
       "      <th>25%</th>\n",
       "      <td>17.000000</td>\n",
       "      <td>1.069748e+16</td>\n",
       "    </tr>\n",
       "    <tr>\n",
       "      <th>50%</th>\n",
       "      <td>36.000000</td>\n",
       "      <td>1.069748e+16</td>\n",
       "    </tr>\n",
       "    <tr>\n",
       "      <th>75%</th>\n",
       "      <td>55.000000</td>\n",
       "      <td>1.400602e+17</td>\n",
       "    </tr>\n",
       "    <tr>\n",
       "      <th>max</th>\n",
       "      <td>154.000000</td>\n",
       "      <td>1.400602e+17</td>\n",
       "    </tr>\n",
       "  </tbody>\n",
       "</table>\n",
       "</div>"
      ],
      "text/plain": [
       "              speed       edge_id\n",
       "count  37641.000000  3.764100e+04\n",
       "mean      38.839537  5.754037e+16\n",
       "std       26.136696  6.217369e+16\n",
       "min        1.000000  1.069748e+16\n",
       "25%       17.000000  1.069748e+16\n",
       "50%       36.000000  1.069748e+16\n",
       "75%       55.000000  1.400602e+17\n",
       "max      154.000000  1.400602e+17"
      ]
     },
     "execution_count": 17,
     "metadata": {},
     "output_type": "execute_result"
    }
   ],
   "source": [
    "df_speeds_msk_spb.loc[df_speeds_msk_spb['city'] == 'spb'].describe()"
   ]
  },
  {
   "cell_type": "raw",
   "id": "08da1669",
   "metadata": {},
   "source": [
    "Из описательных статистик видно следующее:\n",
    "\n",
    "1. кол-во данных для анализа большое (> 30)\n",
    "2. По Москве данных больше в два раза. Вызвано разницей в кол-ве населения городов (12,6 миллиона Москва 5,3 миллиона Санкт-петербурге)\n",
    "2. 25 и 50 перцентиль совпадают, средняя скорость практически совпадает, максимальная имеет значительные различия\n",
    "\n",
    "Но это нам ничего не дает, так как нужно сравнивать данные полученные на одинаковых этапах в равное время"
   ]
  },
  {
   "cell_type": "markdown",
   "id": "ad7832fb",
   "metadata": {},
   "source": [
    "Визуализируем целевую метрику"
   ]
  },
  {
   "cell_type": "code",
   "execution_count": 18,
   "id": "05bff5a3",
   "metadata": {},
   "outputs": [
    {
     "data": {
      "image/png": "[encoded data removed]",
      "text/plain": [
       "<Figure size 432x288 with 1 Axes>"
      ]
     },
     "metadata": {
      "needs_background": "light"
     },
     "output_type": "display_data"
    }
   ],
   "source": [
    "df_speeds_msk_spb.loc[df_speeds_msk_spb['city'] == 'moscow']['speed'].hist();"
   ]
  },
  {
   "cell_type": "code",
   "execution_count": 19,
   "id": "bb5f994d",
   "metadata": {},
   "outputs": [
    {
     "data": {
      "image/png": "[encoded data removed]",
      "text/plain": [
       "<Figure size 432x288 with 1 Axes>"
      ]
     },
     "metadata": {
      "needs_background": "light"
     },
     "output_type": "display_data"
    }
   ],
   "source": [
    "df_speeds_msk_spb.loc[df_speeds_msk_spb['city'] == 'spb']['speed'].hist();"
   ]
  },
  {
   "cell_type": "code",
   "execution_count": 121,
   "id": "15240ed1",
   "metadata": {},
   "outputs": [
    {
     "data": {
      "text/plain": [
       "<AxesSubplot:xlabel='city', ylabel='speed'>"
      ]
     },
     "execution_count": 121,
     "metadata": {},
     "output_type": "execute_result"
    },
    {
     "data": {
      "image/png": "[encoded data removed]",
      "text/plain": [
       "<Figure size 432x288 with 1 Axes>"
      ]
     },
     "metadata": {
      "needs_background": "light"
     },
     "output_type": "display_data"
    }
   ],
   "source": [
    "sns.boxplot(x=\"city\", y=\"speed\", data=df_speeds_msk_spb)"
   ]
  },
  {
   "cell_type": "markdown",
   "id": "017ca7fb",
   "metadata": {},
   "source": [
    "Визуально распределения похоже. Медианы и квартили. Но нужно сформировать выборки и провести тесты"
   ]
  },
  {
   "cell_type": "markdown",
   "id": "62377373",
   "metadata": {},
   "source": [
    "________________________________________________________________"
   ]
  },
  {
   "cell_type": "markdown",
   "id": "56da713e",
   "metadata": {},
   "source": [
    "2.2 Подготовка данных, генерация доп фич"
   ]
  },
  {
   "cell_type": "markdown",
   "id": "6781a7de",
   "metadata": {},
   "source": [
    "Приведем дату к соответствующему типу"
   ]
  },
  {
   "cell_type": "code",
   "execution_count": 20,
   "id": "34500306",
   "metadata": {},
   "outputs": [],
   "source": [
    "df_speeds_msk_spb['d'] = pd.to_datetime(df_speeds_msk_spb['d'])"
   ]
  },
  {
   "cell_type": "code",
   "execution_count": 21,
   "id": "d207c77d",
   "metadata": {},
   "outputs": [
    {
     "name": "stdout",
     "output_type": "stream",
     "text": [
      "<class 'pandas.core.frame.DataFrame'>\n",
      "RangeIndex: 100000 entries, 0 to 99999\n",
      "Data columns (total 4 columns):\n",
      " #   Column   Non-Null Count   Dtype         \n",
      "---  ------   --------------   -----         \n",
      " 0   city     100000 non-null  object        \n",
      " 1   d        100000 non-null  datetime64[ns]\n",
      " 2   speed    100000 non-null  float64       \n",
      " 3   edge_id  100000 non-null  int64         \n",
      "dtypes: datetime64[ns](1), float64(1), int64(1), object(1)\n",
      "memory usage: 3.1+ MB\n"
     ]
    }
   ],
   "source": [
    "df_speeds_msk_spb.info()"
   ]
  },
  {
   "cell_type": "markdown",
   "id": "d7ed813d",
   "metadata": {},
   "source": [
    "Сформируем дополнительные признаки дня недели и времени"
   ]
  },
  {
   "cell_type": "code",
   "execution_count": 22,
   "id": "da74210c",
   "metadata": {},
   "outputs": [],
   "source": [
    "df_speeds_msk_spb[\"weekday\"] = df_speeds_msk_spb['d'].dt.weekday;\n",
    "df_speeds_msk_spb[\"hour\"] = df_speeds_msk_spb['d'].dt.hour;\n",
    "df_speeds_msk_spb[\"is_holiday\"] = df_speeds_msk_spb[\"weekday\"].isin([5, 6]) * 1\n",
    "df_speeds_msk_spb[\"month\"] = df_speeds_msk_spb['d'].dt.month;"
   ]
  },
  {
   "cell_type": "code",
   "execution_count": 23,
   "id": "91c63756",
   "metadata": {},
   "outputs": [
    {
     "data": {
      "text/html": [
       "<div>\n",
       "<style scoped>\n",
       "    .dataframe tbody tr th:only-of-type {\n",
       "        vertical-align: middle;\n",
       "    }\n",
       "\n",
       "    .dataframe tbody tr th {\n",
       "        vertical-align: top;\n",
       "    }\n",
       "\n",
       "    .dataframe thead th {\n",
       "        text-align: right;\n",
       "    }\n",
       "</style>\n",
       "<table border=\"1\" class=\"dataframe\">\n",
       "  <thead>\n",
       "    <tr style=\"text-align: right;\">\n",
       "      <th></th>\n",
       "      <th>city</th>\n",
       "      <th>d</th>\n",
       "      <th>speed</th>\n",
       "      <th>edge_id</th>\n",
       "      <th>weekday</th>\n",
       "      <th>hour</th>\n",
       "      <th>is_holiday</th>\n",
       "      <th>month</th>\n",
       "    </tr>\n",
       "  </thead>\n",
       "  <tbody>\n",
       "    <tr>\n",
       "      <th>0</th>\n",
       "      <td>moscow</td>\n",
       "      <td>2021-04-18 15:12:38</td>\n",
       "      <td>11.0</td>\n",
       "      <td>9008633773888464</td>\n",
       "      <td>6</td>\n",
       "      <td>15</td>\n",
       "      <td>1</td>\n",
       "      <td>4</td>\n",
       "    </tr>\n",
       "    <tr>\n",
       "      <th>1</th>\n",
       "      <td>spb</td>\n",
       "      <td>2021-04-20 18:33:20</td>\n",
       "      <td>14.0</td>\n",
       "      <td>10697483669328064</td>\n",
       "      <td>1</td>\n",
       "      <td>18</td>\n",
       "      <td>0</td>\n",
       "      <td>4</td>\n",
       "    </tr>\n",
       "    <tr>\n",
       "      <th>2</th>\n",
       "      <td>spb</td>\n",
       "      <td>2021-04-25 09:16:15</td>\n",
       "      <td>32.0</td>\n",
       "      <td>140060152287166551</td>\n",
       "      <td>6</td>\n",
       "      <td>9</td>\n",
       "      <td>1</td>\n",
       "      <td>4</td>\n",
       "    </tr>\n",
       "    <tr>\n",
       "      <th>3</th>\n",
       "      <td>moscow</td>\n",
       "      <td>2021-04-01 05:50:42</td>\n",
       "      <td>49.0</td>\n",
       "      <td>9008633774122639</td>\n",
       "      <td>3</td>\n",
       "      <td>5</td>\n",
       "      <td>0</td>\n",
       "      <td>4</td>\n",
       "    </tr>\n",
       "    <tr>\n",
       "      <th>4</th>\n",
       "      <td>moscow</td>\n",
       "      <td>2021-04-12 07:56:15</td>\n",
       "      <td>17.0</td>\n",
       "      <td>9008633773945601</td>\n",
       "      <td>0</td>\n",
       "      <td>7</td>\n",
       "      <td>0</td>\n",
       "      <td>4</td>\n",
       "    </tr>\n",
       "  </tbody>\n",
       "</table>\n",
       "</div>"
      ],
      "text/plain": [
       "     city                   d  speed             edge_id  weekday  hour  \\\n",
       "0  moscow 2021-04-18 15:12:38   11.0    9008633773888464        6    15   \n",
       "1     spb 2021-04-20 18:33:20   14.0   10697483669328064        1    18   \n",
       "2     spb 2021-04-25 09:16:15   32.0  140060152287166551        6     9   \n",
       "3  moscow 2021-04-01 05:50:42   49.0    9008633774122639        3     5   \n",
       "4  moscow 2021-04-12 07:56:15   17.0    9008633773945601        0     7   \n",
       "\n",
       "   is_holiday  month  \n",
       "0           1      4  \n",
       "1           0      4  \n",
       "2           1      4  \n",
       "3           0      4  \n",
       "4           0      4  "
      ]
     },
     "execution_count": 23,
     "metadata": {},
     "output_type": "execute_result"
    }
   ],
   "source": [
    "df_speeds_msk_spb.head()"
   ]
  },
  {
   "cell_type": "code",
   "execution_count": 24,
   "id": "b5a29572",
   "metadata": {},
   "outputs": [
    {
     "data": {
      "text/plain": [
       "array([4, 3, 9])"
      ]
     },
     "execution_count": 24,
     "metadata": {},
     "output_type": "execute_result"
    }
   ],
   "source": [
    "df_speeds_msk_spb['month'].unique()"
   ]
  },
  {
   "cell_type": "code",
   "execution_count": 25,
   "id": "b65e87c8",
   "metadata": {},
   "outputs": [],
   "source": [
    "df_speeds_msk_spb.drop('d', axis=1, inplace=True)"
   ]
  },
  {
   "cell_type": "code",
   "execution_count": 26,
   "id": "85ff7632",
   "metadata": {},
   "outputs": [
    {
     "data": {
      "text/html": [
       "<div>\n",
       "<style scoped>\n",
       "    .dataframe tbody tr th:only-of-type {\n",
       "        vertical-align: middle;\n",
       "    }\n",
       "\n",
       "    .dataframe tbody tr th {\n",
       "        vertical-align: top;\n",
       "    }\n",
       "\n",
       "    .dataframe thead th {\n",
       "        text-align: right;\n",
       "    }\n",
       "</style>\n",
       "<table border=\"1\" class=\"dataframe\">\n",
       "  <thead>\n",
       "    <tr style=\"text-align: right;\">\n",
       "      <th></th>\n",
       "      <th>city</th>\n",
       "      <th>speed</th>\n",
       "      <th>edge_id</th>\n",
       "      <th>weekday</th>\n",
       "      <th>hour</th>\n",
       "      <th>is_holiday</th>\n",
       "      <th>month</th>\n",
       "    </tr>\n",
       "  </thead>\n",
       "  <tbody>\n",
       "    <tr>\n",
       "      <th>0</th>\n",
       "      <td>moscow</td>\n",
       "      <td>11.0</td>\n",
       "      <td>9008633773888464</td>\n",
       "      <td>6</td>\n",
       "      <td>15</td>\n",
       "      <td>1</td>\n",
       "      <td>4</td>\n",
       "    </tr>\n",
       "    <tr>\n",
       "      <th>1</th>\n",
       "      <td>spb</td>\n",
       "      <td>14.0</td>\n",
       "      <td>10697483669328064</td>\n",
       "      <td>1</td>\n",
       "      <td>18</td>\n",
       "      <td>0</td>\n",
       "      <td>4</td>\n",
       "    </tr>\n",
       "    <tr>\n",
       "      <th>2</th>\n",
       "      <td>spb</td>\n",
       "      <td>32.0</td>\n",
       "      <td>140060152287166551</td>\n",
       "      <td>6</td>\n",
       "      <td>9</td>\n",
       "      <td>1</td>\n",
       "      <td>4</td>\n",
       "    </tr>\n",
       "    <tr>\n",
       "      <th>3</th>\n",
       "      <td>moscow</td>\n",
       "      <td>49.0</td>\n",
       "      <td>9008633774122639</td>\n",
       "      <td>3</td>\n",
       "      <td>5</td>\n",
       "      <td>0</td>\n",
       "      <td>4</td>\n",
       "    </tr>\n",
       "    <tr>\n",
       "      <th>4</th>\n",
       "      <td>moscow</td>\n",
       "      <td>17.0</td>\n",
       "      <td>9008633773945601</td>\n",
       "      <td>0</td>\n",
       "      <td>7</td>\n",
       "      <td>0</td>\n",
       "      <td>4</td>\n",
       "    </tr>\n",
       "  </tbody>\n",
       "</table>\n",
       "</div>"
      ],
      "text/plain": [
       "     city  speed             edge_id  weekday  hour  is_holiday  month\n",
       "0  moscow   11.0    9008633773888464        6    15           1      4\n",
       "1     spb   14.0   10697483669328064        1    18           0      4\n",
       "2     spb   32.0  140060152287166551        6     9           1      4\n",
       "3  moscow   49.0    9008633774122639        3     5           0      4\n",
       "4  moscow   17.0    9008633773945601        0     7           0      4"
      ]
     },
     "execution_count": 26,
     "metadata": {},
     "output_type": "execute_result"
    }
   ],
   "source": [
    "df_speeds_msk_spb.head()"
   ]
  },
  {
   "cell_type": "code",
   "execution_count": 27,
   "id": "56984dfa",
   "metadata": {},
   "outputs": [],
   "source": [
    "edge_type = df_graph_msk_spb[['length', 'width', 'lanes', 'def_speed']]\n",
    "edge_type = edge_type.drop_duplicates()\n",
    "edge_type['edge_type'] = edge_type.index\n",
    "df_graph_msk_spb = pd.merge(df_graph_msk_spb, edge_type, how='inner',  left_on=['length', 'width', 'lanes', 'def_speed'], right_on=['length', 'width', 'lanes', 'def_speed'])"
   ]
  },
  {
   "cell_type": "code",
   "execution_count": 28,
   "id": "3717f182",
   "metadata": {},
   "outputs": [
    {
     "data": {
      "text/html": [
       "<div>\n",
       "<style scoped>\n",
       "    .dataframe tbody tr th:only-of-type {\n",
       "        vertical-align: middle;\n",
       "    }\n",
       "\n",
       "    .dataframe tbody tr th {\n",
       "        vertical-align: top;\n",
       "    }\n",
       "\n",
       "    .dataframe thead th {\n",
       "        text-align: right;\n",
       "    }\n",
       "</style>\n",
       "<table border=\"1\" class=\"dataframe\">\n",
       "  <thead>\n",
       "    <tr style=\"text-align: right;\">\n",
       "      <th></th>\n",
       "      <th>city</th>\n",
       "      <th>edge_id</th>\n",
       "      <th>length</th>\n",
       "      <th>width</th>\n",
       "      <th>lanes</th>\n",
       "      <th>def_speed</th>\n",
       "      <th>edge_type</th>\n",
       "    </tr>\n",
       "  </thead>\n",
       "  <tbody>\n",
       "    <tr>\n",
       "      <th>0</th>\n",
       "      <td>moscow</td>\n",
       "      <td>9008633774264073</td>\n",
       "      <td>34</td>\n",
       "      <td>3</td>\n",
       "      <td>1</td>\n",
       "      <td>20</td>\n",
       "      <td>0</td>\n",
       "    </tr>\n",
       "    <tr>\n",
       "      <th>1</th>\n",
       "      <td>moscow</td>\n",
       "      <td>140060152382772679</td>\n",
       "      <td>34</td>\n",
       "      <td>3</td>\n",
       "      <td>1</td>\n",
       "      <td>20</td>\n",
       "      <td>0</td>\n",
       "    </tr>\n",
       "    <tr>\n",
       "      <th>2</th>\n",
       "      <td>moscow</td>\n",
       "      <td>140060152299594684</td>\n",
       "      <td>34</td>\n",
       "      <td>3</td>\n",
       "      <td>1</td>\n",
       "      <td>20</td>\n",
       "      <td>0</td>\n",
       "    </tr>\n",
       "    <tr>\n",
       "      <th>3</th>\n",
       "      <td>moscow</td>\n",
       "      <td>9008633774363750</td>\n",
       "      <td>34</td>\n",
       "      <td>3</td>\n",
       "      <td>1</td>\n",
       "      <td>20</td>\n",
       "      <td>0</td>\n",
       "    </tr>\n",
       "    <tr>\n",
       "      <th>4</th>\n",
       "      <td>moscow</td>\n",
       "      <td>9008633774155847</td>\n",
       "      <td>34</td>\n",
       "      <td>3</td>\n",
       "      <td>1</td>\n",
       "      <td>20</td>\n",
       "      <td>0</td>\n",
       "    </tr>\n",
       "  </tbody>\n",
       "</table>\n",
       "</div>"
      ],
      "text/plain": [
       "     city             edge_id  length  width  lanes  def_speed  edge_type\n",
       "0  moscow    9008633774264073      34      3      1         20          0\n",
       "1  moscow  140060152382772679      34      3      1         20          0\n",
       "2  moscow  140060152299594684      34      3      1         20          0\n",
       "3  moscow    9008633774363750      34      3      1         20          0\n",
       "4  moscow    9008633774155847      34      3      1         20          0"
      ]
     },
     "execution_count": 28,
     "metadata": {},
     "output_type": "execute_result"
    }
   ],
   "source": [
    "df_graph_msk_spb.head()"
   ]
  },
  {
   "cell_type": "code",
   "execution_count": 29,
   "id": "3b133052",
   "metadata": {},
   "outputs": [],
   "source": [
    "df_graph_speeds_msk_spb = pd.merge(df_speeds_msk_spb, df_graph_msk_spb, how='inner', left_on=['edge_id', 'city'], right_on=['edge_id', 'city'])"
   ]
  },
  {
   "cell_type": "code",
   "execution_count": 30,
   "id": "3d31d19d",
   "metadata": {},
   "outputs": [],
   "source": [
    "df_graph_speeds_msk_spb.drop(['length', 'width', 'lanes', 'def_speed'], axis='columns', inplace=True)"
   ]
  },
  {
   "cell_type": "code",
   "execution_count": 31,
   "id": "10bd7696",
   "metadata": {},
   "outputs": [
    {
     "data": {
      "text/html": [
       "<div>\n",
       "<style scoped>\n",
       "    .dataframe tbody tr th:only-of-type {\n",
       "        vertical-align: middle;\n",
       "    }\n",
       "\n",
       "    .dataframe tbody tr th {\n",
       "        vertical-align: top;\n",
       "    }\n",
       "\n",
       "    .dataframe thead th {\n",
       "        text-align: right;\n",
       "    }\n",
       "</style>\n",
       "<table border=\"1\" class=\"dataframe\">\n",
       "  <thead>\n",
       "    <tr style=\"text-align: right;\">\n",
       "      <th></th>\n",
       "      <th>city</th>\n",
       "      <th>speed</th>\n",
       "      <th>edge_id</th>\n",
       "      <th>weekday</th>\n",
       "      <th>hour</th>\n",
       "      <th>is_holiday</th>\n",
       "      <th>month</th>\n",
       "      <th>edge_type</th>\n",
       "    </tr>\n",
       "  </thead>\n",
       "  <tbody>\n",
       "    <tr>\n",
       "      <th>0</th>\n",
       "      <td>moscow</td>\n",
       "      <td>11.0</td>\n",
       "      <td>9008633773888464</td>\n",
       "      <td>6</td>\n",
       "      <td>15</td>\n",
       "      <td>1</td>\n",
       "      <td>4</td>\n",
       "      <td>65297</td>\n",
       "    </tr>\n",
       "    <tr>\n",
       "      <th>1</th>\n",
       "      <td>moscow</td>\n",
       "      <td>7.0</td>\n",
       "      <td>9008633773888464</td>\n",
       "      <td>2</td>\n",
       "      <td>16</td>\n",
       "      <td>0</td>\n",
       "      <td>4</td>\n",
       "      <td>65297</td>\n",
       "    </tr>\n",
       "    <tr>\n",
       "      <th>2</th>\n",
       "      <td>spb</td>\n",
       "      <td>14.0</td>\n",
       "      <td>10697483669328064</td>\n",
       "      <td>1</td>\n",
       "      <td>18</td>\n",
       "      <td>0</td>\n",
       "      <td>4</td>\n",
       "      <td>105</td>\n",
       "    </tr>\n",
       "    <tr>\n",
       "      <th>3</th>\n",
       "      <td>spb</td>\n",
       "      <td>32.0</td>\n",
       "      <td>140060152287166551</td>\n",
       "      <td>6</td>\n",
       "      <td>9</td>\n",
       "      <td>1</td>\n",
       "      <td>4</td>\n",
       "      <td>67332</td>\n",
       "    </tr>\n",
       "    <tr>\n",
       "      <th>4</th>\n",
       "      <td>moscow</td>\n",
       "      <td>49.0</td>\n",
       "      <td>9008633774122639</td>\n",
       "      <td>3</td>\n",
       "      <td>5</td>\n",
       "      <td>0</td>\n",
       "      <td>4</td>\n",
       "      <td>639</td>\n",
       "    </tr>\n",
       "  </tbody>\n",
       "</table>\n",
       "</div>"
      ],
      "text/plain": [
       "     city  speed             edge_id  weekday  hour  is_holiday  month  \\\n",
       "0  moscow   11.0    9008633773888464        6    15           1      4   \n",
       "1  moscow    7.0    9008633773888464        2    16           0      4   \n",
       "2     spb   14.0   10697483669328064        1    18           0      4   \n",
       "3     spb   32.0  140060152287166551        6     9           1      4   \n",
       "4  moscow   49.0    9008633774122639        3     5           0      4   \n",
       "\n",
       "   edge_type  \n",
       "0      65297  \n",
       "1      65297  \n",
       "2        105  \n",
       "3      67332  \n",
       "4        639  "
      ]
     },
     "execution_count": 31,
     "metadata": {},
     "output_type": "execute_result"
    }
   ],
   "source": [
    "df_graph_speeds_msk_spb.head()"
   ]
  },
  {
   "cell_type": "markdown",
   "id": "d37e7040",
   "metadata": {},
   "source": [
    "посмотрим сколько есть пересечений для анализа"
   ]
  },
  {
   "cell_type": "markdown",
   "id": "099fbbe4",
   "metadata": {},
   "source": [
    "2.2 Сформулируем основню гипотезу H0: средняя скорость движения по одинаковым ребрам в одинаковые дни равна двух городах равна.\n",
    "Альтернативная гипотеза H1: средняя скорость движения по одинаковым ребрам в одинаковые дни равна двух городах не равна"
   ]
  },
  {
   "cell_type": "markdown",
   "id": "5ae5eb40",
   "metadata": {},
   "source": [
    "2.3 Выбор статистических критериев для проверки гипотезы"
   ]
  },
  {
   "cell_type": "markdown",
   "id": "ce0f2435",
   "metadata": {},
   "source": [
    "Выборки независимые. \n",
    "Выберем равные маршруты в апреле в среду, и посмотрим на распределение по городам"
   ]
  },
  {
   "cell_type": "code",
   "execution_count": 69,
   "id": "6c8f6616",
   "metadata": {},
   "outputs": [],
   "source": [
    "df_graph_speeds_msk_spb_group_by_spb = df_graph_speeds_msk_spb \\\n",
    ".query(\"month == 4 and city == 'spb' and weekday == 3\") \\\n",
    ".groupby(['edge_type', 'city']) \\\n",
    ".agg({'edge_type': 'count'}) \\\n",
    ".rename(columns={'edge_type': 'edge_type_amount'}) \\\n",
    ".reset_index().sort_values(by='edge_type_amount', ascending=False)"
   ]
  },
  {
   "cell_type": "code",
   "execution_count": 70,
   "id": "d2a06658",
   "metadata": {},
   "outputs": [],
   "source": [
    "df_graph_speeds_msk_spb_group_by_msk = df_graph_speeds_msk_spb \\\n",
    ".query(\"month == 4 and city == 'moscow' and weekday == 3\") \\\n",
    ".groupby(['edge_type', 'city']) \\\n",
    ".agg({'edge_type': 'count'}) \\\n",
    ".rename(columns={'edge_type': 'edge_type_amount'}) \\\n",
    ".reset_index().sort_values(by='edge_type_amount', ascending=False)"
   ]
  },
  {
   "cell_type": "code",
   "execution_count": 126,
   "id": "0912a032",
   "metadata": {},
   "outputs": [],
   "source": [
    "df_graph_speeds_msk_spb_group_by = pd.merge(df_graph_speeds_msk_spb_group_by_msk, \n",
    "                                            df_graph_speeds_msk_spb_group_by_spb, \n",
    "                                            how='inner', on=['edge_type'], suffixes=('_msk', '_spb'))"
   ]
  },
  {
   "cell_type": "code",
   "execution_count": 127,
   "id": "4dce62cf",
   "metadata": {},
   "outputs": [
    {
     "data": {
      "text/html": [
       "<div>\n",
       "<style scoped>\n",
       "    .dataframe tbody tr th:only-of-type {\n",
       "        vertical-align: middle;\n",
       "    }\n",
       "\n",
       "    .dataframe tbody tr th {\n",
       "        vertical-align: top;\n",
       "    }\n",
       "\n",
       "    .dataframe thead th {\n",
       "        text-align: right;\n",
       "    }\n",
       "</style>\n",
       "<table border=\"1\" class=\"dataframe\">\n",
       "  <thead>\n",
       "    <tr style=\"text-align: right;\">\n",
       "      <th></th>\n",
       "      <th>edge_type</th>\n",
       "      <th>city_msk</th>\n",
       "      <th>edge_type_amount_msk</th>\n",
       "      <th>city_spb</th>\n",
       "      <th>edge_type_amount_spb</th>\n",
       "    </tr>\n",
       "  </thead>\n",
       "  <tbody>\n",
       "    <tr>\n",
       "      <th>44</th>\n",
       "      <td>1347</td>\n",
       "      <td>moscow</td>\n",
       "      <td>21</td>\n",
       "      <td>spb</td>\n",
       "      <td>22</td>\n",
       "    </tr>\n",
       "    <tr>\n",
       "      <th>48</th>\n",
       "      <td>774</td>\n",
       "      <td>moscow</td>\n",
       "      <td>20</td>\n",
       "      <td>spb</td>\n",
       "      <td>21</td>\n",
       "    </tr>\n",
       "    <tr>\n",
       "      <th>2</th>\n",
       "      <td>667</td>\n",
       "      <td>moscow</td>\n",
       "      <td>33</td>\n",
       "      <td>spb</td>\n",
       "      <td>20</td>\n",
       "    </tr>\n",
       "    <tr>\n",
       "      <th>149</th>\n",
       "      <td>12646</td>\n",
       "      <td>moscow</td>\n",
       "      <td>13</td>\n",
       "      <td>spb</td>\n",
       "      <td>20</td>\n",
       "    </tr>\n",
       "    <tr>\n",
       "      <th>9</th>\n",
       "      <td>183</td>\n",
       "      <td>moscow</td>\n",
       "      <td>28</td>\n",
       "      <td>spb</td>\n",
       "      <td>19</td>\n",
       "    </tr>\n",
       "    <tr>\n",
       "      <th>...</th>\n",
       "      <td>...</td>\n",
       "      <td>...</td>\n",
       "      <td>...</td>\n",
       "      <td>...</td>\n",
       "      <td>...</td>\n",
       "    </tr>\n",
       "    <tr>\n",
       "      <th>1023</th>\n",
       "      <td>68793</td>\n",
       "      <td>moscow</td>\n",
       "      <td>1</td>\n",
       "      <td>spb</td>\n",
       "      <td>1</td>\n",
       "    </tr>\n",
       "    <tr>\n",
       "      <th>1025</th>\n",
       "      <td>8201</td>\n",
       "      <td>moscow</td>\n",
       "      <td>1</td>\n",
       "      <td>spb</td>\n",
       "      <td>1</td>\n",
       "    </tr>\n",
       "    <tr>\n",
       "      <th>1026</th>\n",
       "      <td>595495</td>\n",
       "      <td>moscow</td>\n",
       "      <td>1</td>\n",
       "      <td>spb</td>\n",
       "      <td>1</td>\n",
       "    </tr>\n",
       "    <tr>\n",
       "      <th>1027</th>\n",
       "      <td>598770</td>\n",
       "      <td>moscow</td>\n",
       "      <td>1</td>\n",
       "      <td>spb</td>\n",
       "      <td>1</td>\n",
       "    </tr>\n",
       "    <tr>\n",
       "      <th>1028</th>\n",
       "      <td>615349</td>\n",
       "      <td>moscow</td>\n",
       "      <td>1</td>\n",
       "      <td>spb</td>\n",
       "      <td>1</td>\n",
       "    </tr>\n",
       "  </tbody>\n",
       "</table>\n",
       "<p>1031 rows × 5 columns</p>\n",
       "</div>"
      ],
      "text/plain": [
       "      edge_type city_msk  edge_type_amount_msk city_spb  edge_type_amount_spb\n",
       "44         1347   moscow                    21      spb                    22\n",
       "48          774   moscow                    20      spb                    21\n",
       "2           667   moscow                    33      spb                    20\n",
       "149       12646   moscow                    13      spb                    20\n",
       "9           183   moscow                    28      spb                    19\n",
       "...         ...      ...                   ...      ...                   ...\n",
       "1023      68793   moscow                     1      spb                     1\n",
       "1025       8201   moscow                     1      spb                     1\n",
       "1026     595495   moscow                     1      spb                     1\n",
       "1027     598770   moscow                     1      spb                     1\n",
       "1028     615349   moscow                     1      spb                     1\n",
       "\n",
       "[1031 rows x 5 columns]"
      ]
     },
     "execution_count": 127,
     "metadata": {},
     "output_type": "execute_result"
    }
   ],
   "source": [
    "df_graph_speeds_msk_spb_group_by.sort_values(by=['edge_type_amount_spb', 'edge_type_amount_msk'], ascending=False)"
   ]
  },
  {
   "cell_type": "markdown",
   "id": "b59323b4",
   "metadata": {},
   "source": [
    "Посмотрим распределение для наиболее популярного машрута"
   ]
  },
  {
   "cell_type": "code",
   "execution_count": 135,
   "id": "b3c4b264",
   "metadata": {},
   "outputs": [
    {
     "data": {
      "text/plain": [
       "<AxesSubplot:>"
      ]
     },
     "execution_count": 135,
     "metadata": {},
     "output_type": "execute_result"
    },
    {
     "data": {
      "image/png": "[encoded data removed]",
      "text/plain": [
       "<Figure size 432x288 with 1 Axes>"
      ]
     },
     "metadata": {
      "needs_background": "light"
     },
     "output_type": "display_data"
    }
   ],
   "source": [
    "spb_test1 = df_graph_speeds_msk_spb.query(\"month == 4 and edge_type == 1347 and city == 'spb' and weekday == 3\")['speed'].head(20)\n",
    "spb_test1.hist()"
   ]
  },
  {
   "cell_type": "code",
   "execution_count": 136,
   "id": "ca3de94f",
   "metadata": {},
   "outputs": [
    {
     "data": {
      "text/plain": [
       "<AxesSubplot:>"
      ]
     },
     "execution_count": 136,
     "metadata": {},
     "output_type": "execute_result"
    },
    {
     "data": {
      "image/png": "[encoded data removed]",
      "text/plain": [
       "<Figure size 432x288 with 1 Axes>"
      ]
     },
     "metadata": {
      "needs_background": "light"
     },
     "output_type": "display_data"
    }
   ],
   "source": [
    "msk_test1 = df_graph_speeds_msk_spb.query(\"month == 4 and edge_type == 1347 and city == 'moscow' and weekday == 3\")['speed'].head(20)\n",
    "msk_test1.hist()"
   ]
  },
  {
   "cell_type": "markdown",
   "id": "363a774c",
   "metadata": {},
   "source": [
    "Посмотрим на boxplot"
   ]
  },
  {
   "cell_type": "code",
   "execution_count": 141,
   "id": "e51648fc",
   "metadata": {},
   "outputs": [
    {
     "data": {
      "text/plain": [
       "<AxesSubplot:xlabel='city', ylabel='speed'>"
      ]
     },
     "execution_count": 141,
     "metadata": {},
     "output_type": "execute_result"
    },
    {
     "data": {
      "image/png": "[encoded data removed]",
      "text/plain": [
       "<Figure size 432x288 with 1 Axes>"
      ]
     },
     "metadata": {
      "needs_background": "light"
     },
     "output_type": "display_data"
    }
   ],
   "source": [
    "sns.boxplot(x=\"city\", y=\"speed\", data=df_graph_speeds_msk_spb.query(\"month == 4 and edge_type == 1347 and weekday == 3\").head(20))"
   ]
  },
  {
   "cell_type": "markdown",
   "id": "1eb1fe15",
   "metadata": {},
   "source": [
    "Для не параметрических критериев выбросы не критичны, поэтому оставим их в выборках"
   ]
  },
  {
   "cell_type": "markdown",
   "id": "3a747bc2",
   "metadata": {},
   "source": [
    "##### Визуальный анализ: Распределения не нормально распределены и не сильно похожи => используем не параметрические критерии"
   ]
  },
  {
   "cell_type": "code",
   "execution_count": 142,
   "id": "2832518c",
   "metadata": {},
   "outputs": [
    {
     "data": {
      "text/plain": [
       "count    20.000000\n",
       "mean     22.700000\n",
       "std      14.312674\n",
       "min       2.000000\n",
       "25%      12.500000\n",
       "50%      22.000000\n",
       "75%      32.250000\n",
       "max      53.000000\n",
       "Name: speed, dtype: float64"
      ]
     },
     "execution_count": 142,
     "metadata": {},
     "output_type": "execute_result"
    }
   ],
   "source": [
    "spb_test1.describe()"
   ]
  },
  {
   "cell_type": "code",
   "execution_count": 143,
   "id": "7c4101b6",
   "metadata": {},
   "outputs": [
    {
     "data": {
      "text/plain": [
       "count    20.000000\n",
       "mean     24.350000\n",
       "std      15.475873\n",
       "min       2.000000\n",
       "25%       7.750000\n",
       "50%      26.500000\n",
       "75%      36.750000\n",
       "max      51.000000\n",
       "Name: speed, dtype: float64"
      ]
     },
     "execution_count": 143,
     "metadata": {},
     "output_type": "execute_result"
    }
   ],
   "source": [
    "msk_test1.describe()"
   ]
  },
  {
   "cell_type": "markdown",
   "id": "94247d15",
   "metadata": {},
   "source": [
    "##### Манна-Уитни для сравнения средних"
   ]
  },
  {
   "cell_type": "code",
   "execution_count": 144,
   "id": "d79393f1",
   "metadata": {},
   "outputs": [
    {
     "data": {
      "text/plain": [
       "MannwhitneyuResult(statistic=184.5, pvalue=0.34235066002701375)"
      ]
     },
     "execution_count": 144,
     "metadata": {},
     "output_type": "execute_result"
    }
   ],
   "source": [
    "scipy.stats.mannwhitneyu(spb_test1,msk_test1)"
   ]
  },
  {
   "cell_type": "markdown",
   "id": "1dd84b90",
   "metadata": {},
   "source": [
    "Манна-Уитни показывает высокое значение pvalue => принимаем основну, отвергаем альтернативную о равенстве средних"
   ]
  },
  {
   "cell_type": "markdown",
   "id": "0044658b",
   "metadata": {},
   "source": [
    "##### Критерий Муда для сравнения дисперсий"
   ]
  },
  {
   "cell_type": "code",
   "execution_count": 145,
   "id": "2d45139a",
   "metadata": {},
   "outputs": [
    {
     "data": {
      "text/plain": [
       "(-1.0378122879814413, 0.29935745489020704)"
      ]
     },
     "execution_count": 145,
     "metadata": {},
     "output_type": "execute_result"
    }
   ],
   "source": [
    "scipy.stats.mood(spb_test1,msk_test1)"
   ]
  },
  {
   "cell_type": "code",
   "execution_count": 146,
   "id": "d242dc65",
   "metadata": {},
   "outputs": [
    {
     "data": {
      "text/plain": [
       "LeveneResult(statistic=0.764500168895424, pvalue=0.38741657986332223)"
      ]
     },
     "execution_count": 146,
     "metadata": {},
     "output_type": "execute_result"
    }
   ],
   "source": [
    "scipy.stats.levene(spb_test1,msk_test1)"
   ]
  },
  {
   "cell_type": "markdown",
   "id": "ef0e4484",
   "metadata": {},
   "source": [
    "*Вывод*: Оба критерия показывают высокое pvalue => принимаем основну, отвергаем альтернативную о равенстве дисперсий"
   ]
  },
  {
   "cell_type": "markdown",
   "id": "dbc2cc4c",
   "metadata": {},
   "source": [
    "Применим тест Комлогорова-Смирнова согласия двух выборок:"
   ]
  },
  {
   "cell_type": "code",
   "execution_count": 147,
   "id": "6ace36a6",
   "metadata": {},
   "outputs": [
    {
     "data": {
      "text/plain": [
       "KstestResult(statistic=0.2, pvalue=0.8319696107963263)"
      ]
     },
     "execution_count": 147,
     "metadata": {},
     "output_type": "execute_result"
    }
   ],
   "source": [
    "scipy.stats.ks_2samp(spb_test1,msk_test1)"
   ]
  },
  {
   "cell_type": "markdown",
   "id": "5f230dd6",
   "metadata": {},
   "source": [
    "высокое значение pvalue не дает нам право отклонить нулевую гипотезу => наши выборки из одного закона распределения "
   ]
  },
  {
   "cell_type": "markdown",
   "id": "7bd55f72",
   "metadata": {},
   "source": [
    "По результатам не параметрических тестов мы не можем отклонить нулевую гипотезу => мы отклоняем альтернативную гипотезу"
   ]
  },
  {
   "cell_type": "markdown",
   "id": "1fcd1b29",
   "metadata": {},
   "source": [
    "Расмотрим еще пару выборок "
   ]
  },
  {
   "cell_type": "code",
   "execution_count": 183,
   "id": "0967c92c",
   "metadata": {},
   "outputs": [
    {
     "data": {
      "text/plain": [
       "<AxesSubplot:>"
      ]
     },
     "execution_count": 183,
     "metadata": {},
     "output_type": "execute_result"
    },
    {
     "data": {
      "image/png": "[encoded data removed]",
      "text/plain": [
       "<Figure size 432x288 with 1 Axes>"
      ]
     },
     "metadata": {
      "needs_background": "light"
     },
     "output_type": "display_data"
    }
   ],
   "source": [
    "spb_test2 = df_graph_speeds_msk_spb.query(\"month == 4 and edge_type == 774 and city == 'spb' and weekday == 4\")['speed'].head(15)\n",
    "spb_test2.hist()"
   ]
  },
  {
   "cell_type": "code",
   "execution_count": 184,
   "id": "b2487bd1",
   "metadata": {},
   "outputs": [
    {
     "data": {
      "text/plain": [
       "<AxesSubplot:>"
      ]
     },
     "execution_count": 184,
     "metadata": {},
     "output_type": "execute_result"
    },
    {
     "data": {
      "image/png": "[encoded data removed]",
      "text/plain": [
       "<Figure size 432x288 with 1 Axes>"
      ]
     },
     "metadata": {
      "needs_background": "light"
     },
     "output_type": "display_data"
    }
   ],
   "source": [
    "msk_test2 = df_graph_speeds_msk_spb.query(\"month == 4 and edge_type == 774 and city == 'moscow' and weekday == 4\")['speed'].head(15)\n",
    "msk_test2.hist()"
   ]
  },
  {
   "cell_type": "code",
   "execution_count": 185,
   "id": "5f779dc8",
   "metadata": {},
   "outputs": [
    {
     "data": {
      "text/plain": [
       "count    15.000000\n",
       "mean     25.400000\n",
       "std      15.674365\n",
       "min       1.000000\n",
       "25%      17.000000\n",
       "50%      23.000000\n",
       "75%      36.000000\n",
       "max      53.000000\n",
       "Name: speed, dtype: float64"
      ]
     },
     "execution_count": 185,
     "metadata": {},
     "output_type": "execute_result"
    }
   ],
   "source": [
    "msk_test2.describe()"
   ]
  },
  {
   "cell_type": "code",
   "execution_count": 186,
   "id": "010b39e1",
   "metadata": {},
   "outputs": [
    {
     "data": {
      "text/plain": [
       "count    15.000000\n",
       "mean     21.133333\n",
       "std      10.702915\n",
       "min       6.000000\n",
       "25%      13.500000\n",
       "50%      21.000000\n",
       "75%      29.500000\n",
       "max      39.000000\n",
       "Name: speed, dtype: float64"
      ]
     },
     "execution_count": 186,
     "metadata": {},
     "output_type": "execute_result"
    }
   ],
   "source": [
    "spb_test2.describe()"
   ]
  },
  {
   "cell_type": "code",
   "execution_count": 187,
   "id": "ba5e1e86",
   "metadata": {},
   "outputs": [
    {
     "data": {
      "text/plain": [
       "<AxesSubplot:xlabel='city', ylabel='speed'>"
      ]
     },
     "execution_count": 187,
     "metadata": {},
     "output_type": "execute_result"
    },
    {
     "data": {
      "image/png": "[encoded data removed]",
      "text/plain": [
       "<Figure size 432x288 with 1 Axes>"
      ]
     },
     "metadata": {
      "needs_background": "light"
     },
     "output_type": "display_data"
    }
   ],
   "source": [
    "sns.boxplot(x=\"city\", y=\"speed\", data=df_graph_speeds_msk_spb.query(\"month == 4 and edge_type == 774 and weekday == 4\").head(15))"
   ]
  },
  {
   "cell_type": "code",
   "execution_count": 177,
   "id": "2e648b23",
   "metadata": {},
   "outputs": [
    {
     "data": {
      "text/plain": [
       "MannwhitneyuResult(statistic=93.5, pvalue=0.22133690649820115)"
      ]
     },
     "execution_count": 177,
     "metadata": {},
     "output_type": "execute_result"
    }
   ],
   "source": [
    "scipy.stats.mannwhitneyu(spb_test2,msk_test2)"
   ]
  },
  {
   "cell_type": "code",
   "execution_count": 178,
   "id": "f478d091",
   "metadata": {},
   "outputs": [
    {
     "data": {
      "text/plain": [
       "(-1.1203059070900365, 0.26258342569109905)"
      ]
     },
     "execution_count": 178,
     "metadata": {},
     "output_type": "execute_result"
    }
   ],
   "source": [
    "scipy.stats.mood(spb_test2,msk_test2)"
   ]
  },
  {
   "cell_type": "code",
   "execution_count": 179,
   "id": "b94113c9",
   "metadata": {},
   "outputs": [
    {
     "data": {
      "text/plain": [
       "LeveneResult(statistic=1.7261733615221984, pvalue=0.19956371896946629)"
      ]
     },
     "execution_count": 179,
     "metadata": {},
     "output_type": "execute_result"
    }
   ],
   "source": [
    "scipy.stats.levene(spb_test2,msk_test2)"
   ]
  },
  {
   "cell_type": "code",
   "execution_count": 180,
   "id": "fcd93c2f",
   "metadata": {},
   "outputs": [
    {
     "data": {
      "text/plain": [
       "KstestResult(statistic=0.26666666666666666, pvalue=0.6781382270680966)"
      ]
     },
     "execution_count": 180,
     "metadata": {},
     "output_type": "execute_result"
    }
   ],
   "source": [
    "scipy.stats.ks_2samp(spb_test2,msk_test2)"
   ]
  },
  {
   "cell_type": "markdown",
   "id": "8d8a4e29",
   "metadata": {},
   "source": [
    "Также все тесты показали высокое значение pvalue"
   ]
  },
  {
   "cell_type": "markdown",
   "id": "1a9098d3",
   "metadata": {},
   "source": [
    "По результатам проведенных тестов мы не смогли отвергнуть основную гипотезу о равенстве средней скорость движения водителей в Москве и Санкт-Петербурге"
   ]
  },
  {
   "cell_type": "markdown",
   "id": "4743795f",
   "metadata": {},
   "source": [
    "Дополнительные рассуждения: непараметрические критерии обладают не высокой мощьностью, но позволяют работать с ненормально распределенными данными, в даном случае выборки не большие, визуально кажется что стоит отвергнуть H0, но стат критерии говорят об обратном. Возможно стоило лучше подбирать данные для выборок"
   ]
  },
  {
   "cell_type": "raw",
   "id": "613e5814",
   "metadata": {},
   "source": [
    "Если посмотреть на распределения ящиков и основные статистики, то можно сформировать следующие гипотезы:\n",
    "    1. Средняя скорость жителей Москвы выше средней скорости жителей Санкт-Петербурга\n",
    "    2. Москвичи ездят быстрее \n",
    "    3. И разброс по скорости движения у Москвичей больше , чем у водителей Санкт-Петербурга"
   ]
  },
  {
   "cell_type": "raw",
   "id": "52c14275",
   "metadata": {},
   "source": [
    "Можно было бы еще расмотреть как передвигаются в выходные, в часы пик, посмотреть распределения по дням недели и по часам"
   ]
  }
 ],
 "metadata": {
  "kernelspec": {
   "display_name": "Python 3",
   "language": "python",
   "name": "python3"
  },
  "language_info": {
   "codemirror_mode": {
    "name": "ipython",
    "version": 3
   },
   "file_extension": ".py",
   "mimetype": "text/x-python",
   "name": "python",
   "nbconvert_exporter": "python",
   "pygments_lexer": "ipython3",
   "version": "3.8.5"
  }
 },
 "nbformat": 4,
 "nbformat_minor": 5
}
